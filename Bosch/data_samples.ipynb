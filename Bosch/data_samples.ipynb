{
 "cells": [
  {
   "cell_type": "code",
   "execution_count": null,
   "metadata": {
    "collapsed": true
   },
   "outputs": [],
   "source": [
    "import pandas as pd"
   ]
  },
  {
   "cell_type": "code",
   "execution_count": null,
   "metadata": {
    "collapsed": false
   },
   "outputs": [],
   "source": [
    "train_ids= pd.read_csv('train_numeric.csv.zip', compression= 'zip', usecols= ['Id', 'Response'])"
   ]
  },
  {
   "cell_type": "code",
   "execution_count": null,
   "metadata": {
    "collapsed": false
   },
   "outputs": [],
   "source": [
    "print train_ids.shape"
   ]
  },
  {
   "cell_type": "code",
   "execution_count": null,
   "metadata": {
    "collapsed": false
   },
   "outputs": [],
   "source": [
    "train_ids.Response.value_counts()"
   ]
  },
  {
   "cell_type": "code",
   "execution_count": null,
   "metadata": {
    "collapsed": true
   },
   "outputs": [],
   "source": [
    "fault_ids= train_ids[train_ids.Response ==1].Id.tolist()"
   ]
  },
  {
   "cell_type": "code",
   "execution_count": null,
   "metadata": {
    "collapsed": false
   },
   "outputs": [],
   "source": [
    "fault_ids[1:10]"
   ]
  },
  {
   "cell_type": "code",
   "execution_count": null,
   "metadata": {
    "collapsed": false
   },
   "outputs": [],
   "source": [
    "print len(fault_ids)"
   ]
  },
  {
   "cell_type": "code",
   "execution_count": null,
   "metadata": {
    "collapsed": true
   },
   "outputs": [],
   "source": [
    "good_ids= train_ids[train_ids.Response ==0]"
   ]
  },
  {
   "cell_type": "code",
   "execution_count": null,
   "metadata": {
    "collapsed": false
   },
   "outputs": [],
   "source": [
    "print good_ids.shape"
   ]
  },
  {
   "cell_type": "code",
   "execution_count": null,
   "metadata": {
    "collapsed": true
   },
   "outputs": [],
   "source": [
    "good_ids_sample= good_ids.sample(n= len(fault_ids)*9)"
   ]
  },
  {
   "cell_type": "code",
   "execution_count": null,
   "metadata": {
    "collapsed": false
   },
   "outputs": [],
   "source": [
    "print good_ids_sample.shape"
   ]
  },
  {
   "cell_type": "code",
   "execution_count": null,
   "metadata": {
    "collapsed": true
   },
   "outputs": [],
   "source": [
    "good_ids_sample= good_ids_sample.Id.tolist()"
   ]
  },
  {
   "cell_type": "code",
   "execution_count": null,
   "metadata": {
    "collapsed": false
   },
   "outputs": [],
   "source": [
    "good_ids_sample[1:10]"
   ]
  },
  {
   "cell_type": "code",
   "execution_count": 14,
   "metadata": {
    "collapsed": true
   },
   "outputs": [],
   "source": [
    "all_ids_sample= fault_ids + good_ids_sample"
   ]
  },
  {
   "cell_type": "code",
   "execution_count": 15,
   "metadata": {
    "collapsed": false
   },
   "outputs": [
    {
     "data": {
      "text/plain": [
       "[1250, 1350, 1793, 2347, 3527, 3585, 4104, 4978, 4998]"
      ]
     },
     "execution_count": 15,
     "metadata": {},
     "output_type": "execute_result"
    }
   ],
   "source": [
    "all_ids_sample[1:10]"
   ]
  },
  {
   "cell_type": "code",
   "execution_count": 16,
   "metadata": {
    "collapsed": false
   },
   "outputs": [
    {
     "name": "stdout",
     "output_type": "stream",
     "text": [
      "68790\n"
     ]
    }
   ],
   "source": [
    "print len(all_ids_sample)"
   ]
  },
  {
   "cell_type": "code",
   "execution_count": 17,
   "metadata": {
    "collapsed": true
   },
   "outputs": [],
   "source": [
    "f1= 'train_numeric.csv.zip'\n",
    "f2= 'train_date.csv.zip'\n",
    "f3= 'train_categorical.csv.zip'"
   ]
  },
  {
   "cell_type": "code",
   "execution_count": 18,
   "metadata": {
    "collapsed": false
   },
   "outputs": [
    {
     "name": "stdout",
     "output_type": "stream",
     "text": [
      "processed 100000 records ...\n",
      "processed 200000 records ...\n",
      "processed 300000 records ...\n",
      "processed 400000 records ...\n",
      "processed 500000 records ...\n",
      "processed 600000 records ...\n",
      "processed 700000 records ...\n",
      "processed 800000 records ...\n",
      "processed 900000 records ...\n",
      "processed 1000000 records ...\n",
      "processed 1100000 records ...\n",
      "processed 1200000 records ...\n"
     ]
    }
   ],
   "source": [
    "cc= 100000\n",
    "\n",
    "train_num= pd.read_csv(f1, compression= 'zip', chunksize= cc)\n",
    "train_num_samp= pd.DataFrame()\n",
    "\n",
    "i = 1\n",
    "for chunk in train_num:\n",
    "    chunk_relevant = chunk[chunk['Id'].isin(all_ids_sample)]\n",
    "    train_num_samp= pd.concat([train_num_samp, chunk_relevant], ignore_index= True)\n",
    "    print \"processed\", i*cc, \"records ...\"\n",
    "    print \"current length of sample is \", len(train_num_samp)\n",
    "    i= i+1"
   ]
  },
  {
   "cell_type": "code",
   "execution_count": 19,
   "metadata": {
    "collapsed": false
   },
   "outputs": [
    {
     "data": {
      "text/plain": [
       "0    61911\n",
       "1     6879\n",
       "Name: Response, dtype: int64"
      ]
     },
     "execution_count": 19,
     "metadata": {},
     "output_type": "execute_result"
    }
   ],
   "source": [
    "train_num_samp['Response'].value_counts()"
   ]
  },
  {
   "cell_type": "code",
   "execution_count": 20,
   "metadata": {
    "collapsed": false
   },
   "outputs": [
    {
     "name": "stdout",
     "output_type": "stream",
     "text": [
      "68790\n"
     ]
    }
   ],
   "source": [
    "print len(train_num_samp)"
   ]
  },
  {
   "cell_type": "code",
   "execution_count": null,
   "metadata": {
    "collapsed": true
   },
   "outputs": [],
   "source": [
    "pd.write_csv(train_num_samp, 'train_num')"
   ]
  },
  {
   "cell_type": "code",
   "execution_count": null,
   "metadata": {
    "collapsed": true
   },
   "outputs": [],
   "source": [
    "train_date= pd.read_csv(f2, compression= 'zip', chunksize= 100000)\n",
    "train_date_samp= pd.DataFrame()\n",
    "\n",
    "i = 1\n",
    "for chunk in train_num:\n",
    "    #chunk_relevant = chunk[chunk['Id'].isin(all_ids_sample)]\n",
    "    #train_num_samp= pd.concat([train_date_samp, chunk_relevant], ignore_index= True)\n",
    "    print \"processed\", i*100000, \"records ...\"\n",
    "    i= i+1"
   ]
  },
  {
   "cell_type": "code",
   "execution_count": null,
   "metadata": {
    "collapsed": true
   },
   "outputs": [],
   "source": [
    "train_cat= pd.read_csv(f3, compression= 'zip', chunksize= 10000)\n",
    "train_cat_samp= pd.DataFrame()\n",
    "\n",
    "i = 1\n",
    "for chunk in train_num:\n",
    "    #chunk_relevant = chunk[chunk['Id'].isin(all_ids_sample)]\n",
    "    #train_num_samp= pd.concat([train_cat_samp, chunk_relevant], ignore_index= True)\n",
    "    print \"processed\", i*100000, \"records ...\"\n",
    "    i= i+1"
   ]
  }
 ],
 "metadata": {
  "kernelspec": {
   "display_name": "Python [Root]",
   "language": "python",
   "name": "Python [Root]"
  },
  "language_info": {
   "codemirror_mode": {
    "name": "ipython",
    "version": 2
   },
   "file_extension": ".py",
   "mimetype": "text/x-python",
   "name": "python",
   "nbconvert_exporter": "python",
   "pygments_lexer": "ipython2",
   "version": "2.7.12"
  }
 },
 "nbformat": 4,
 "nbformat_minor": 0
}
